{
 "cells": [
  {
   "cell_type": "code",
   "execution_count": 1,
   "metadata": {
    "colab": {},
    "colab_type": "code",
    "id": "yIXR_z-rpGhh"
   },
   "outputs": [],
   "source": [
    "import pandas as pd\n",
    "import lxml as lxml\n",
    "import numpy as np\n",
    "import html5lib as ht\n",
    "from pandas.io.html import read_html\n",
    "import matplotlib.pyplot as plt"
   ]
  },
  {
   "cell_type": "code",
   "execution_count": 2,
   "metadata": {
    "colab": {},
    "colab_type": "code",
    "id": "bNLqjhlVpGhn"
   },
   "outputs": [],
   "source": [
    "pl1 = 'https://www.moneycontrol.com/financials/marutisuzukiindia/results/yearly/MS24#MS24'\n",
    "pl2 = pl1.replace('#','/2#')\n",
    "pl3 = pl1.replace('#','/3#')\n",
    "bl1 = pl1.replace('results/yearly','balance-sheetVI')\n",
    "bl2 = bl1.replace('#','/2#')\n",
    "bl3 = bl1.replace('#','/3#')"
   ]
  },
  {
   "cell_type": "code",
   "execution_count": 3,
   "metadata": {
    "colab": {},
    "colab_type": "code",
    "id": "lSLRfV9JpGhr"
   },
   "outputs": [],
   "source": [
    "p1 = pd.read_html(pl1,index_col=0,header=0)[0]\n",
    "p2 = pd.read_html(pl2,index_col=0,header=0)[0]\n",
    "p3 = pd.read_html(pl3,index_col=0,header=0)[0]"
   ]
  },
  {
   "cell_type": "code",
   "execution_count": 4,
   "metadata": {
    "colab": {},
    "colab_type": "code",
    "id": "jATwHNzwpGhu"
   },
   "outputs": [],
   "source": [
    "b1 = pd.read_html(bl1,index_col=0,header=0)[0]\n",
    "b2 = pd.read_html(bl2,index_col=0,header=0)[0]\n",
    "b3 = pd.read_html(bl3,index_col=0,header=0)[0]"
   ]
  },
  {
   "cell_type": "code",
   "execution_count": 5,
   "metadata": {
    "colab": {},
    "colab_type": "code",
    "id": "RexD0GbFpGhy"
   },
   "outputs": [],
   "source": [
    "index = p1.index.name\n",
    "index2 = b1.index.name"
   ]
  },
  {
   "cell_type": "code",
   "execution_count": 6,
   "metadata": {
    "colab": {},
    "colab_type": "code",
    "id": "Jn_8jUt7pGh1"
   },
   "outputs": [],
   "source": [
    "p = p1.merge(p2, on = index).merge(p3, on = index)\n",
    "b = b1.merge(b2, on = index2).merge(b3, on = index2)"
   ]
  },
  {
   "cell_type": "code",
   "execution_count": 7,
   "metadata": {
    "colab": {},
    "colab_type": "code",
    "id": "h07zzIWdpGh5"
   },
   "outputs": [],
   "source": [
    "p = p[:25]\n",
    "b=b[:42]\n",
    "b = b.drop([b1.index[0]])\n",
    "p.columns = b.columns\n",
    "f = p.append(b)"
   ]
  },
  {
   "cell_type": "code",
   "execution_count": 8,
   "metadata": {
    "colab": {},
    "colab_type": "code",
    "id": "2SpQkOHXpGh9"
   },
   "outputs": [],
   "source": [
    "f =f.replace(\"--\",\"0\")\n",
    "f = f.sort_index(axis=1 ,ascending=True)\n",
    "f = f.drop(f.columns[[-3,-2,-1]], axis = 1)\n",
    "f = f.apply(pd.to_numeric) "
   ]
  },
  {
   "cell_type": "code",
   "execution_count": 9,
   "metadata": {
    "colab": {
     "base_uri": "https://localhost:8080/",
     "height": 932
    },
    "colab_type": "code",
    "id": "PM9HRzRVpb_x",
    "outputId": "ab1e133b-b078-4e6d-a971-0e7ae07277b9"
   },
   "outputs": [],
   "source": [
    "corr = f.T.corr()\n",
    "r =  corr.iat[1,1]\n",
    "corr = corr.replace(to_replace = r, value = int(.001))\n",
    "max_corrwith  = corr.idxmax(axis=1)"
   ]
  },
  {
   "cell_type": "code",
   "execution_count": 10,
   "metadata": {
    "colab": {},
    "colab_type": "code",
    "id": "IkmJ0nIAqy6E"
   },
   "outputs": [],
   "source": [
    "YoY = (f/f.shift(periods=1, axis='columns'))-1\n",
    "YoY = YoY.T"
   ]
  },
  {
   "cell_type": "code",
   "execution_count": 11,
   "metadata": {
    "colab": {
     "base_uri": "https://localhost:8080/",
     "height": 265
    },
    "colab_type": "code",
    "id": "3swzgoxaQzjH",
    "outputId": "4cc98745-ffbb-49b7-b70d-981f760c6778"
   },
   "outputs": [
    {
     "data": {
      "image/png": "[encoded data removed]",
      "text/plain": [
       "<Figure size 432x288 with 1 Axes>"
      ]
     },
     "metadata": {
      "needs_background": "light"
     },
     "output_type": "display_data"
    }
   ],
   "source": [
    "plt.plot(YoY,label = index)\n",
    "plt.show()"
   ]
  },
  {
   "cell_type": "code",
   "execution_count": 12,
   "metadata": {
    "colab": {},
    "colab_type": "code",
    "id": "Hwk0urrZMEdT"
   },
   "outputs": [],
   "source": [
    "N = f.iat[3,0]\n",
    "f =f.replace(N,\"\")\n",
    "#print(f.to_string())"
   ]
  },
  {
   "cell_type": "code",
   "execution_count": 13,
   "metadata": {
    "colab": {},
    "colab_type": "code",
    "id": "2U_2ysTZMyRz"
   },
   "outputs": [],
   "source": [
    "f['mean']= YoY.mean(axis=0)\n",
    "f['std']=YoY.std(axis=0)\n",
    "f['max_corrwith']=max_corrwith\n",
    "f['max_corrvalur']=corr.max(axis=1)"
   ]
  },
  {
   "cell_type": "code",
   "execution_count": 14,
   "metadata": {
    "colab": {
     "base_uri": "https://localhost:8080/",
     "height": 1000
    },
    "colab_type": "code",
    "id": "lN5lFC1IPtrp",
    "outputId": "ca42b089-d79d-4d6b-c762-ea89da00d1bf"
   },
   "outputs": [
    {
     "name": "stdout",
     "output_type": "stream",
     "text": [
      "                                                   Mar 05   Mar 06   Mar 07   Mar 08   Mar 09   Mar 10   Mar 11   Mar 12   Mar 13   Mar 14   Mar 15   Mar 16   Mar 17   Mar 18   Mar 19      mean        std                         max_corrwith  max_corrvalur\n",
      "Net Sales/Income from operations                  13343.1  14753.1  17205.9  17860.3  20852.5    29623  36299.7  34705.9  42612.6  42644.8  48605.5  56441.2  66909.4  78104.8  83026.5  0.144639   0.113971             Total Shareholders Funds       0.993584\n",
      "Other Operating Income                                  0        0        0        0        0        0   740.35    881.2   975.37  1055.87  1365.11   1096.9   1125.4   1657.9   2993.8       inf        NaN                    Trade Receivables       0.924891\n",
      "Total Income From Operations                            0        0  17205.9  17860.3  20852.5    29623  37040.1  35587.1  43587.9  43700.6  49970.6  57538.1  68034.8  79762.7  86020.3       inf        NaN                       Other Expenses       0.986209\n",
      "EXPENDITURE                                                                                                                                                                                   NaN        NaN                                  NaN            NaN\n",
      "Consumption of Raw Materials                      8583.67   9440.3  10830.7  13161.4  15235.3  21701.7  27576.1  26664.3  30530.2  28864.6  32798.7  35483.9  42629.6  44941.3  45023.9  0.131996   0.125929         Total Income From Operations       0.982264\n",
      "Purchase of Traded Goods                                0        0        0        0        0        0  1278.15  1532.53  1961.25  2431.42  2665.19   3206.6   4482.1     9993  15019.5       inf        NaN          Other Long Term Liabilities       0.959537\n",
      "Increase/Decrease in Stocks                        -66.29  -223.31   218.64  -291.68   281.87  -193.31   -60.04  -131.19    23.43     18.5  -455.86      6.9   -380.1     40.7    210.8 -6.154351  15.975142                    Trade Receivables       0.351006\n",
      "Power & Fuel                                            0        0        0        0        0        0        0        0        0        0        0        0        0        0        0       NaN        NaN                                  NaN            NaN\n",
      "Employees Cost                                     196.03   228.74   288.42   356.16   471.09   545.64   703.62   843.81  1069.57  1368.11  1606.55   1978.8     2331   2833.8   3254.9  0.223379   0.054806             Total Shareholders Funds       0.997368\n",
      "Depreciation                                       456.83   285.42   271.36   568.17   706.54   825.02   1013.5  1138.35  1861.17   2084.4  2470.33   2820.2   2602.1   2757.9   3018.9  0.185075   0.340280                      Tangible Assets       0.989651\n",
      "Excise Duty                                       2380.65  2700.86  2551.99        0        0        0        0        0        0        0        0        0        0        0        0 -0.306871   0.607709            Deferred Tax Assets [Net]       0.748127\n",
      "Admin. And Selling Expenses                             0        0        0        0        0        0        0        0        0        0        0        0        0        0        0       NaN        NaN                                  NaN            NaN\n",
      "R & D Expenses                                          0        0        0        0        0        0        0        0        0        0        0        0        0        0        0       NaN        NaN                                  NaN            NaN\n",
      "Provisions And Contingencies                            0        0        0        0        0        0        0        0        0        0        0        0        0        0        0       NaN        NaN                                  NaN            NaN\n",
      "Exp. Capitalised                                        0        0        0        0        0        0        0        0        0        0        0        0        0        0        0       NaN        NaN                                  NaN            NaN\n",
      "Other Expenses                                     842.73    979.9  1325.71  2467.08  3032.23  3614.66  3877.88  4164.77  5773.78  5922.11  6643.13   7977.5   8619.2   9892.4  11511.9  0.219364   0.211025     Net Sales/Income from operations       0.989426\n",
      "P/L Before Other Inc. , Int., Excpt. Items & Tax        0        0  1719.05   1599.2  1125.52  3129.27  2650.85  1374.54  2368.51  3011.51  4242.64   6064.2   7750.9   9303.6   7980.4       inf        NaN  P/L Before Int., Excpt. Items & Tax       0.996796\n",
      "Other Income                                       391.46   429.19   598.41   963.47   601.34   496.76   482.31   826.86   812.37    822.9   831.58     1461   2279.8   2045.5     2561  0.193485   0.357032          Other Long Term Liabilities       0.953052\n",
      "P/L Before Int., Excpt. Items & Tax                     0        0  2317.46  2562.67  1726.86  3626.03  3133.16   2201.4  3180.88  3834.41  5074.22   7525.2  10030.7  11349.1  10541.4       inf        NaN   P/L Before Exceptional Items & Tax       0.999772\n",
      "Interest                                            36.01    20.39    37.63    59.62    50.98     33.5    24.41    55.21   189.82   175.85   206.02     81.5     89.4    345.7     75.8  0.400968   1.108730             Capital Work-In-Progress       0.815569\n",
      "P/L Before Exceptional Items & Tax                      0        0  2279.83  2503.05  1675.88  3592.53  3108.75  2146.19  2991.06  3658.56   4868.2   7443.7   9941.3  11003.4  10465.6       inf        NaN  P/L Before Int., Excpt. Items & Tax       0.999772\n",
      "Exceptional Items                                       0        0        0        0        0        0        0        0        0        0        0        0        0        0        0       NaN        NaN                                  NaN            NaN\n",
      "P/L Before Tax                                          0        0  2279.83  2503.05  1675.88  3592.53  3108.75  2146.19  2991.06  3658.56   4868.2   7443.7   9941.3  11003.4  10465.6       inf        NaN  P/L Before Int., Excpt. Items & Tax       0.999772\n",
      "Tax                                                446.49   560.94   717.85   763.32   457.14  1094.91   820.11   511.05   598.93   875.51  1156.98   2079.4   2603.6   3281.6     2965  0.223865   0.470770              Non-Current Investments       0.988434\n",
      "P/L After Tax from Ordinary Activities                  0        0  1561.98  1739.73  1218.74  2497.62  2288.64  1635.14  2392.13  2783.05  3711.22   5364.3   7337.7   7721.8   7500.6       inf        NaN   P/L Before Exceptional Items & Tax       0.998911\n",
      "EQUITIES AND LIABILITIES                                                                                                                                                                      NaN        NaN                                  NaN            NaN\n",
      "SHAREHOLDER'S FUNDS                                                                                                                                                                           NaN        NaN                                  NaN            NaN\n",
      "Equity Share Capital                                144.5    144.5    144.5    144.5    144.5    144.5    144.5    144.5      151      151      151      151      151      151      151  0.003213   0.012022                         Depreciation       0.938251\n",
      "Total Share Capital                                 144.5    144.5    144.5    144.5    144.5    144.5    144.5    144.5      151      151      151      151      151      151      151  0.003213   0.012022                         Depreciation       0.938251\n",
      "Reserves and Surplus                               4234.3   5308.1   6709.4   8270.9   9200.4  11690.6    13723  15042.9  18427.9    20827  23553.2  29733.2  36280.1  41606.3  45990.5  0.187447   0.065822             Total Shareholders Funds       1.000000\n",
      "Total Reserves and Surplus                         4234.3   5308.1   6709.4   8270.9   9200.4  11690.6    13723  15042.9  18427.9    20827  23553.2  29733.2  36280.1  41606.3  45990.5  0.187447   0.065822             Total Shareholders Funds       1.000000\n",
      "Total Shareholders Funds                           4378.8   5452.6   6853.9   8415.4   9344.9  11835.1  13867.5  15187.4  18578.9    20978  23704.2  29884.2  36431.1  41757.3  46141.5  0.184804   0.064153                 Reserves and Surplus       1.000000\n",
      "NON-CURRENT LIABILITIES                                                                                                                                                                       NaN        NaN                                  NaN            NaN\n",
      "Long Term Borrowings                                  300       70    607.5    500.3    632.9    419.9      139        0    542.9    460.4    144.8        0        0        0        0       inf        NaN        Short Term Loans And Advances       0.783353\n",
      "Deferred Tax Liabilities [Net]                      235.4      199    277.6    269.7      234    220.6    164.4    302.3    408.7    586.6      481    194.3    466.2    558.9      564  0.158916   0.505005             Capital Work-In-Progress       0.845258\n",
      "Other Long Term Liabilities                             0        0        0        0        0        0     95.9     96.6    250.3    238.6    105.4    807.5     1105   1585.3   2036.5       inf        NaN             Purchase of Traded Goods       0.959537\n",
      "Long Term Provisions                                    0        0        0        0        0        0    139.6    168.3    225.9      198    292.6     14.8     21.9     26.5     39.5       inf        NaN         Long Term Loans And Advances       0.923255\n",
      "Total Non-Current Liabilities                       535.4      269    885.1      770    866.9    640.5    538.9    567.2   1427.8   1483.6   1023.8   1016.6   1593.1   2170.7     2640  0.271896   0.758878                    Trade Receivables       0.913797\n",
      "CURRENT LIABILITIES                                                                                                                                                                           NaN        NaN                                  NaN            NaN\n",
      "Short Term Borrowings                                 7.6      1.7     23.3    399.9       66    401.5     31.2   1078.3    846.3   1224.7     35.4     77.4    483.6    110.8    149.6  5.018165   9.826642                  Current Investments       0.707073\n",
      "Trade Payables                                      463.7    555.1    909.6    854.9   2569.6   2318.1   2608.3   3349.9   4157.9   4897.5   5561.4   7407.3   8367.3    10497     9633  0.305810   0.524537            Total Current Liabilities       0.993113\n",
      "Other Current Liabilities                           755.1    950.7   1101.4   1594.3    447.3    621.3      993   1589.2   1075.1   1274.2   1865.8   3155.6   3926.5   4274.3   3743.3  0.211373   0.389246             Total Non-Current Assets       0.952117\n",
      "Short Term Provisions                               389.2      480    490.5    369.5    380.7    628.4    386.2    530.2    648.2    677.7   1360.4    398.9      449      560    624.4  0.123812   0.417782                 Long Term Provisions       0.713976\n",
      "Total Current Liabilities                          1615.6   1987.5   2524.8   3218.6   3463.6   3969.3   4018.7   6547.6   6727.5   8074.1     8823  11039.2  13226.4  15442.1  14150.3  0.178054   0.168212                       Trade Payables       0.993113\n",
      "Total Capital And Liabilities                      6529.8   7709.1  10263.8    12404  13675.4  16444.9  18425.1  22302.2  26734.2  30535.7    33551    41940  51250.6  59370.1  62931.8  0.177606   0.070471             Total Shareholders Funds       0.999254\n",
      "ASSETS                                                                                                                                                                                        NaN        NaN                                  NaN            NaN\n",
      "NON-CURRENT ASSETS                                                                                                                                                                            NaN        NaN                                  NaN            NaN\n",
      "Tangible Assets                                    1873.7   1695.2   2659.7   3296.5   4070.8   5005.3   5483.7   7310.8   9576.5  10607.7    11967  12163.1  12919.7  13047.3  14956.7  0.170491   0.166619                         Fixed Assets       0.996416\n",
      "Intangible Assets                                       0        0        0        0        0     19.4     45.7    209.9    222.7    182.7    292.3    346.9      373    311.7    451.1       inf        NaN                          Inventories       0.969985\n",
      "Capital Work-In-Progress                             42.1       92    238.9    736.3    861.3    387.6    862.5    611.4   1940.9   2621.4   1882.8   1006.9   1252.3   2125.9   1600.1  0.563577   0.941129       Deferred Tax Liabilities [Net]       0.845258\n",
      "Other Assets                                            0        0        0        0        0        0        0        0        0        0        0        0        0        0        0       NaN        NaN                                  NaN            NaN\n",
      "Fixed Assets                                       1915.8   1787.2   2898.6   4032.8   4932.1   5412.3   6391.9   8132.1  11740.1  13411.8  14142.1  13516.9    14545  15484.9  17007.9  0.182499   0.193314                      Tangible Assets       0.996416\n",
      "Non-Current Investments                            1516.6   2051.2   3409.2   5180.7   3173.3   7176.6   1111.2   1393.3   1873.5   1304.8   9817.6  18875.4  26302.2  34072.9  31469.5  0.708385   1.758565                                  Tax       0.988434\n",
      "Deferred Tax Assets [Net]                           125.4    121.1    110.1     99.6     78.9     83.6        0        0        0        0        0        0        0        0        0 -0.228126   0.388076                          Excise Duty       0.748127\n",
      "Long Term Loans And Advances                            0        0        0        0        0        0   1254.7   1671.5     1280   1638.4   1349.3      0.4      0.3      0.2      0.2       inf        NaN                 Long Term Provisions       0.923255\n",
      "Other Non-Current Assets                                0        0        0        0        0        0     47.1     26.3    894.6        9     44.1   1701.3   1626.9   1890.7   2092.6       inf        NaN                   OtherCurrentAssets       0.939256\n",
      "Total Non-Current Assets                           3557.8   3959.5   6417.9   9313.1   8184.3  12672.5   8804.9  11223.2  15788.2    16364  25353.1    34094  42474.4  51448.7  50570.2  0.239919   0.273530        Total Capital And Liabilities       0.984844\n",
      "CURRENT ASSETS                                                                                                                                                                                NaN        NaN                                  NaN            NaN\n",
      "Current Investments                                     0        0        0        0        0        0   3995.6   4754.1   5204.8   8813.1   2996.4   1056.8   2178.8   1217.3   5045.5       inf        NaN                 Total Current Assets       0.940846\n",
      "Inventories                                         666.6    881.2    713.2     1038    902.3   1208.8     1415   1796.5   1840.7   1705.9     2615   3132.1   3262.2   3160.8   3325.7  0.141464   0.221180                    Intangible Assets       0.969985\n",
      "Trade Receivables                                   599.5    654.8    747.4    655.5    918.9    809.9    824.5    937.6   1469.9   1413.7   1069.8   1322.2   1199.2   1461.8   2310.4  0.126982   0.254919               Other Operating Income       0.924891\n",
      "Cash And Cash Equivalents                          1029.4   1401.6   1422.8      324     1939     98.2   2508.5   2436.1      775    629.7     18.3     42.2     13.8     71.1    178.9  2.329761   6.656834         Long Term Loans And Advances       0.348359\n",
      "Short Term Loans And Advances                       676.5      812    962.5   1073.4   1730.9   1655.5    683.6    778.3   1115.3   1251.1   1172.8    147.8      2.5        3       16  0.270696   1.257504                 Long Term Borrowings       0.783353\n",
      "OtherCurrentAssets                                      0        0        0        0        0        0      193    376.4    540.3    358.2    325.6   2144.9   2119.7   2007.4   1485.1       inf        NaN             Other Non-Current Assets       0.939256\n",
      "Total Current Assets                                 2972   3749.6   3845.9   3090.9   5491.1   3772.4   9620.2    11079    10946  14171.7   8197.9     7846   8776.2   7921.4  12361.6  0.189733   0.506487                  Current Investments       0.940846\n",
      "Total Assets                                       6529.8   7709.1  10263.8    12404  13675.4  16444.9  18425.1  22302.2  26734.2  30535.7    33551    41940  51250.6  59370.1  62931.8  0.177606   0.070471             Total Shareholders Funds       0.999254\n"
     ]
    }
   ],
   "source": [
    "print(f.to_string())"
   ]
  },
  {
   "cell_type": "code",
   "execution_count": 15,
   "metadata": {
    "colab": {},
    "colab_type": "code",
    "id": "qLvbkbXzT4JB"
   },
   "outputs": [],
   "source": [
    "f.to_excel(r\"C:\\Users\\krrish\\OneDrive\\desktop lenovo\\New Downloads\\try1.xlsx\")"
   ]
  },
  {
   "cell_type": "code",
   "execution_count": null,
   "metadata": {},
   "outputs": [],
   "source": []
  }
 ],
 "metadata": {
  "colab": {
   "name": "FM for company.ipynb",
   "provenance": []
  },
  "kernelspec": {
   "display_name": "Python 3",
   "language": "python",
   "name": "python3"
  },
  "language_info": {
   "codemirror_mode": {
    "name": "ipython",
    "version": 3
   },
   "file_extension": ".py",
   "mimetype": "text/x-python",
   "name": "python",
   "nbconvert_exporter": "python",
   "pygments_lexer": "ipython3",
   "version": "3.7.0"
  }
 },
 "nbformat": 4,
 "nbformat_minor": 1
}
